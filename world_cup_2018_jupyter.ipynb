{
 "cells": [
  {
   "cell_type": "code",
   "execution_count": 22,
   "metadata": {
    "collapsed": true
   },
   "outputs": [
    {
     "ename": "SyntaxError",
     "evalue": "invalid syntax (<ipython-input-45-caf27de49540>, line 3)",
     "traceback": [
      "\u001b[0;36m  File \u001b[0;32m\"<ipython-input-45-caf27de49540>\"\u001b[0;36m, line \u001b[0;32m3\u001b[0m\n\u001b[0;31m    def Fixture(team1, team2, draws_allowed)\u001b[0m\n\u001b[0m                                            ^\u001b[0m\n\u001b[0;31mSyntaxError\u001b[0m\u001b[0;31m:\u001b[0m invalid syntax\n"
     ],
     "output_type": "error"
    }
   ],
   "source": [
    "import itertools\n"
   ]
  },
  {
   "cell_type": "code",
   "execution_count": 45,
   "metadata": {
    "collapsed": true
   },
   "outputs": [
    {
     "ename": "SyntaxError",
     "evalue": "invalid syntax (<ipython-input-45-caf27de49540>, line 3)",
     "traceback": [
      "\u001b[0;36m  File \u001b[0;32m\"<ipython-input-45-caf27de49540>\"\u001b[0;36m, line \u001b[0;32m3\u001b[0m\n\u001b[0;31m    def Fixture(team1, team2, draws_allowed)\u001b[0m\n\u001b[0m                                            ^\u001b[0m\n\u001b[0;31mSyntaxError\u001b[0m\u001b[0;31m:\u001b[0m invalid syntax\n"
     ],
     "output_type": "error"
    }
   ],
   "source": [
    "# Functions\n",
    "# the fixture function finds the result of the two teams\n",
    "def Fixture(team1, team2, draws_allowed)\n",
    "    r = rand()\n",
    "    team1.points +="
   ]
  },
  {
   "cell_type": "code",
   "execution_count": 44,
   "metadata": {
    "collapsed": true
   },
   "outputs": [
    {
     "ename": "SyntaxError",
     "evalue": "invalid syntax (<ipython-input-45-caf27de49540>, line 3)",
     "traceback": [
      "\u001b[0;36m  File \u001b[0;32m\"<ipython-input-45-caf27de49540>\"\u001b[0;36m, line \u001b[0;32m3\u001b[0m\n\u001b[0;31m    def Fixture(team1, team2, draws_allowed)\u001b[0m\n\u001b[0m                                            ^\u001b[0m\n\u001b[0;31mSyntaxError\u001b[0m\u001b[0;31m:\u001b[0m invalid syntax\n"
     ],
     "output_type": "error"
    }
   ],
   "source": [
    "# the groupstage function resolves all the fixtures within a group stage and stores the results inside the team class\n",
    "def GroupStage(team_names_in_group):\n",
    "   \n",
    "    match_fixtures = itertools.combinations(team_names_in_group,2)\n",
    "    for team1, team2 in match_fixtures:\n",
    "        Fixture(team1, team2, draws_allowed=True)\n",
    "        \n"
   ]
  },
  {
   "cell_type": "code",
   "execution_count": null,
   "metadata": {
    "collapsed": true
   },
   "outputs": [
    {
     "ename": "SyntaxError",
     "evalue": "invalid syntax (<ipython-input-45-caf27de49540>, line 3)",
     "traceback": [
      "\u001b[0;36m  File \u001b[0;32m\"<ipython-input-45-caf27de49540>\"\u001b[0;36m, line \u001b[0;32m3\u001b[0m\n\u001b[0;31m    def Fixture(team1, team2, draws_allowed)\u001b[0m\n\u001b[0m                                            ^\u001b[0m\n\u001b[0;31mSyntaxError\u001b[0m\u001b[0;31m:\u001b[0m invalid syntax\n"
     ],
     "output_type": "error"
    }
   ],
   "source": [
    "\n",
    "# the Finals function resolves the knock out stages of the finals\n",
    "def Finals(group_winners)\n",
    "    Fixture(T1, T2, draws_allowed=False)\n"
   ]
  },
  {
   "cell_type": "code",
   "execution_count": 20,
   "metadata": {
    "collapsed": true
   },
   "outputs": [
    {
     "ename": "SyntaxError",
     "evalue": "invalid syntax (<ipython-input-45-caf27de49540>, line 3)",
     "traceback": [
      "\u001b[0;36m  File \u001b[0;32m\"<ipython-input-45-caf27de49540>\"\u001b[0;36m, line \u001b[0;32m3\u001b[0m\n\u001b[0;31m    def Fixture(team1, team2, draws_allowed)\u001b[0m\n\u001b[0m                                            ^\u001b[0m\n\u001b[0;31mSyntaxError\u001b[0m\u001b[0;31m:\u001b[0m invalid syntax\n"
     ],
     "output_type": "error"
    }
   ],
   "source": [
    "# define Team class\n",
    "class Team:\n",
    "    def __init__(self, team, rank, group):\n",
    "        self.team = team\n",
    "        self.rank = rank\n",
    "        self.group = group\n",
    "        self.fixtures = []\n",
    "        self.points = 0\n",
    "        self.result = []\n",
    "        self.goal_difference = []\n",
    "        \n",
    "    def __repr__(self):\n",
    "        return f'<Team({self.team})>'\n"
   ]
  },
  {
   "cell_type": "code",
   "execution_count": 19,
   "metadata": {
    "collapsed": true
   },
   "outputs": [
    {
     "ename": "SyntaxError",
     "evalue": "invalid syntax (<ipython-input-45-caf27de49540>, line 3)",
     "traceback": [
      "\u001b[0;36m  File \u001b[0;32m\"<ipython-input-45-caf27de49540>\"\u001b[0;36m, line \u001b[0;32m3\u001b[0m\n\u001b[0;31m    def Fixture(team1, team2, draws_allowed)\u001b[0m\n\u001b[0m                                            ^\u001b[0m\n\u001b[0;31mSyntaxError\u001b[0m\u001b[0;31m:\u001b[0m invalid syntax\n"
     ],
     "output_type": "error"
    }
   ],
   "source": [
    "\n",
    "# input data\n",
    "# team name, FIFA rank, group ID\n",
    "# 'England', 8, 'E'\n",
    "\n",
    "teams_list = []\n",
    "# load csv\n",
    "with open('teams.csv', 'r') as f:\n",
    "    for line in f.readlines()[1:]:\n",
    "        team, rank, group = line.strip().split(',')\n",
    "        teams_list.append(Team(team, rank, group))\n",
    "        \n",
    "teams_list"
   ]
  },
  {
   "cell_type": "code",
   "execution_count": 43,
   "metadata": {
    "collapsed": true
   },
   "outputs": [
    {
     "ename": "SyntaxError",
     "evalue": "invalid syntax (<ipython-input-45-caf27de49540>, line 3)",
     "traceback": [
      "\u001b[0;36m  File \u001b[0;32m\"<ipython-input-45-caf27de49540>\"\u001b[0;36m, line \u001b[0;32m3\u001b[0m\n\u001b[0;31m    def Fixture(team1, team2, draws_allowed)\u001b[0m\n\u001b[0m                                            ^\u001b[0m\n\u001b[0;31mSyntaxError\u001b[0m\u001b[0;31m:\u001b[0m invalid syntax\n"
     ],
     "output_type": "error"
    }
   ],
   "source": [
    "\n",
    "# for each row in csv, make an instance of the Team class.\n",
    "\n",
    "# isolate the teams by the group they appear in\n",
    "teams_in_group = [(list(g)) for _, g in itertools.groupby(teams_list, lambda x: x.group)]\n",
    "teams_in_group\n"
   ]
  },
  {
   "cell_type": "code",
   "execution_count": null,
   "metadata": {
    "collapsed": true
   },
   "outputs": [
    {
     "ename": "SyntaxError",
     "evalue": "invalid syntax (<ipython-input-45-caf27de49540>, line 3)",
     "traceback": [
      "\u001b[0;36m  File \u001b[0;32m\"<ipython-input-45-caf27de49540>\"\u001b[0;36m, line \u001b[0;32m3\u001b[0m\n\u001b[0;31m    def Fixture(team1, team2, draws_allowed)\u001b[0m\n\u001b[0m                                            ^\u001b[0m\n\u001b[0;31mSyntaxError\u001b[0m\u001b[0;31m:\u001b[0m invalid syntax\n"
     ],
     "output_type": "error"
    }
   ],
   "source": [
    "\n",
    "group_winners = GroupStage(teams_in_group)\n"
   ]
  },
  {
   "cell_type": "code",
   "execution_count": null,
   "metadata": {
    "collapsed": true
   },
   "outputs": [
    {
     "ename": "SyntaxError",
     "evalue": "invalid syntax (<ipython-input-45-caf27de49540>, line 3)",
     "traceback": [
      "\u001b[0;36m  File \u001b[0;32m\"<ipython-input-45-caf27de49540>\"\u001b[0;36m, line \u001b[0;32m3\u001b[0m\n\u001b[0;31m    def Fixture(team1, team2, draws_allowed)\u001b[0m\n\u001b[0m                                            ^\u001b[0m\n\u001b[0;31mSyntaxError\u001b[0m\u001b[0;31m:\u001b[0m invalid syntax\n"
     ],
     "output_type": "error"
    }
   ],
   "source": [
    "\n",
    "\n",
    "winner = Finals(group_winners)\n"
   ]
  },
  {
   "cell_type": "code",
   "execution_count": null,
   "metadata": {},
   "outputs": [],
   "source": []
  }
 ],
 "metadata": {
  "kernelspec": {
   "display_name": "Python 2",
   "language": "python",
   "name": "python2"
  },
  "language_info": {
   "codemirror_mode": {
    "name": "ipython",
    "version": 2
   },
   "file_extension": ".py",
   "mimetype": "text/x-python",
   "name": "python",
   "nbconvert_exporter": "python",
   "pygments_lexer": "ipython2",
   "version": "2.7.6"
  }
 },
 "nbformat": 4,
 "nbformat_minor": 0
}
