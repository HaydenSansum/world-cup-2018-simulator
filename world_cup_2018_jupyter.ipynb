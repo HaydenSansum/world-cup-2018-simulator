{
 "cells": [
  {
   "cell_type": "code",
   "execution_count": 1,
   "metadata": {
    "collapsed": false
   },
   "outputs": [],
   "source": [
    "import itertools\n",
    "from random import random, randint\n",
    "import texttable\n",
    "import operator\n"
   ]
  },
  {
   "cell_type": "code",
   "execution_count": 10,
   "metadata": {
    "collapsed": false
   },
   "outputs": [],
   "source": [
    "# the fixture function finds the result of the two teams and updates the team class as appropriate\n",
    "def football_fixture(team1, team2, draws_allowed):\n",
    "    # use rank to set win conditions\n",
    "    delta = int(team1.rank) - int(team2.rank)\n",
    "    # positive delta = team 1 better than team 2\n",
    "    # negative delta = team 2 better than team 1\n",
    "    if delta >= 0:\n",
    "        win_condition_1 = 0.0006 * delta + 0.35\n",
    "        win_condition_2 = 1 - (-0.0003 * delta + 0.35)\n",
    "    else:\n",
    "        win_condition_1 = -0.0003 * abs(delta) + 0.35\n",
    "        win_condition_2 = 1 - (0.0006 * abs(delta) + 0.35)\n",
    "        \n",
    "    if not draws_allowed:\n",
    "        draw_probability = win_condition_2 - win_condition_1\n",
    "        win_condition_1 += draw_probability/2\n",
    "        win_condition_2 -= draw_probability/2        \n",
    "\n",
    "    r = random()\n",
    "\n",
    "    if r < win_condition_1:  # team 1 won\n",
    "        if draws_allowed:\n",
    "            team1.points += 3\n",
    "            team1.result = team1.result + 'W'\n",
    "            team2.result = team2.result + 'L'\n",
    "            \n",
    "        if delta >= 0:\n",
    "            # this is the most likely result\n",
    "            team1_goals = randint(1, int(round(0.0027 * delta + 2)))\n",
    "            team2_goals = min([team1_goals - 1, int(round(-0.0009 * delta + 2))])\n",
    "        else:\n",
    "            team1_goals = randint(1, int(round(-0.0009 * abs(delta) + 2)))\n",
    "            team2_goals = min([team1_goals - 1, int(round(0.0027 * abs(delta) + 2))])\n",
    "\n",
    "    elif r < win_condition_2 and draws_allowed:\n",
    "        # then we have a draw\n",
    "        team1.points += 1\n",
    "        team1.result = team1.result + 'D'\n",
    "        team2.points += 1\n",
    "        team2.result = team2.result + 'D'\n",
    "        draw_goals = randint(0, int(round(-0.0036 * delta + 3)))\n",
    "        team1_goals = draw_goals\n",
    "        team2_goals = draw_goals\n",
    "\n",
    "    else:  # team 2 won the game\n",
    "        if draws_allowed:\n",
    "            team2.points += 3\n",
    "            team2.result = team2.result + 'W'\n",
    "            team1.result = team1.result + 'L'\n",
    "            \n",
    "        if delta >= 0:\n",
    "            # this is the most likely result\n",
    "            team2_goals = randint(1, int(round(0.0027 * delta + 2)))\n",
    "            team1_goals = min([team2_goals - 1, int(round(-0.0009 * delta + 2))])\n",
    "        else:\n",
    "            team2_goals = randint(1, int(round(-0.0009 * abs(delta) + 2)))\n",
    "            team1_goals = min([team2_goals - 1, int(round(0.0027 * abs(delta) + 2))])\n",
    "\n",
    "    # update the goal differences for each team for group stages\n",
    "    if draws_allowed:\n",
    "        team1.goals_forward += team1_goals\n",
    "        team1.goals_against += team2_goals\n",
    "        team1.goal_difference = team1.goals_forward - team1.goals_against\n",
    "        team2.goals_forward += team2_goals\n",
    "        team2.goals_against += team1_goals\n",
    "        team2.goal_difference = team2.goals_forward - team2.goals_against\n",
    "    \n",
    "    # update the fixture history\n",
    "    team1.fixtures += team2.team + ', ' + team1.result[-1]\n",
    "    team2.fixtures += team1.team + ', ' + team2.result[-1]\n",
    "    # report result  \n",
    "    print('                        ' + team1.code + '  ' + str(team1_goals) + ' - ' + str(team2_goals) + '  ' + team2.code)"
   ]
  },
  {
   "cell_type": "code",
   "execution_count": 3,
   "metadata": {
    "collapsed": true
   },
   "outputs": [],
   "source": [
    "# the group_stage function resolves all the fixtures within a group stage and stores the results inside the team class\n",
    "def group_stages(teams_in_group):\n",
    "    for i in range(8):  # 8 groups A to H        \n",
    "        this_group = teams_in_group[i]\n",
    "        print('\\n\\n                            GROUP ' + this_group[0].group) \n",
    "        # find all the fixtures for this group\n",
    "        group_fixtures = list(itertools.combinations(this_group, 2))\n",
    "        # play each fixture\n",
    "        for j in range(len(group_fixtures)):\n",
    "            team1, team2 = group_fixtures[j]\n",
    "            football_fixture(team1, team2, draws_allowed=True)\n",
    "        \n",
    "        # determine group winners\n",
    "        # points, GD, GF, points among those tied, GD among those tied.\n",
    "        sorted_group = sorted(this_group, key=operator.attrgetter('points'))\n",
    "        sorted_group.reverse()\n",
    "                \n",
    "        # build league tales using text table     \n",
    "        headers = ['Team', 'Form', 'GF', 'GD', 'Pts']\n",
    "        table = texttable.Texttable()\n",
    "        table.header(headers)\n",
    "        for x in range(4):\n",
    "            table.add_row([sorted_group[x].code, sorted_group[x].result, sorted_group[x].goals_forward, sorted_group[x].goal_difference, sorted_group[x].points])\n",
    "            \n",
    "        table.set_cols_align(['l', 'c', 'c', 'c', 'c'])\n",
    "        table.set_cols_width([8, 7, 7, 7, 7])\n",
    "        table.set_chars(['-', '', '', '\"'])\n",
    "        print(table.draw())\n"
   ]
  },
  {
   "cell_type": "code",
   "execution_count": null,
   "metadata": {
    "collapsed": true
   },
   "outputs": [
    {
     "ename": "SyntaxError",
     "evalue": "invalid syntax (<ipython-input-45-caf27de49540>, line 3)",
     "traceback": [
      "\u001b[0;36m  File \u001b[0;32m\"<ipython-input-45-caf27de49540>\"\u001b[0;36m, line \u001b[0;32m3\u001b[0m\n\u001b[0;31m    def Fixture(team1, team2, draws_allowed)\u001b[0m\n\u001b[0m                                            ^\u001b[0m\n\u001b[0;31mSyntaxError\u001b[0m\u001b[0;31m:\u001b[0m invalid syntax\n"
     ],
     "output_type": "error"
    }
   ],
   "source": [
    "\n",
    "# the Finals function resolves the knock out stages of the finals\n",
    "def Finals(group_winners)\n",
    "    Fixture(T1, T2, draws_allowed=False)\n"
   ]
  },
  {
   "cell_type": "code",
   "execution_count": 4,
   "metadata": {
    "collapsed": true
   },
   "outputs": [],
   "source": [
    "class Team:\n",
    "    def __init__(self, team, code, rank, group):\n",
    "        self.team = team\n",
    "        self.code = code\n",
    "        self.rank = rank\n",
    "        self.group = group\n",
    "        self.fixtures = []\n",
    "        self.points = 0\n",
    "        self.result = ''\n",
    "        self.goal_difference = 0\n",
    "        self.goals_forward = 0\n",
    "        self.goals_against = 0\n",
    "                \n",
    "    def __repr__(self):\n",
    "        return f'{self.team}'\n"
   ]
  },
  {
   "cell_type": "code",
   "execution_count": 11,
   "metadata": {
    "collapsed": true
   },
   "outputs": [
    {
     "name": "stdout",
     "output_type": "stream",
     "text": [
      "\n\n                            GROUP A\n                        RUS  1 - 0  SAU\n                        RUS  0 - 1  EGY\n                        RUS  1 - 0  URU\n                        SAU  1 - 2  EGY\n                        SAU  5 - 5  URU\n                        EGY  0 - 1  URU\n----------------------------------------------\n   Team     Form      GF       GD       Pts   \n\"\"\"\"\"\"\"\"\"\"\"\"\"\"\"\"\"\"\"\"\"\"\"\"\"\"\"\"\"\"\"\"\"\"\"\"\"\"\"\"\"\"\"\"\"\"\n EGY         WWL       3        1        6    \n----------------------------------------------\n RUS         WLW       2        1        6    \n----------------------------------------------\n URU         LDW       6        0        4    \n----------------------------------------------\n SAU         LLD       6       -2        1    \n----------------------------------------------\n\n\n                            GROUP B\n                        POR  0 - 0  SPA\n                        POR  4 - 1  MOR\n                        POR  1 - 0  IRA\n                        SPA  2 - 1  MOR\n                        SPA  0 - 0  IRA\n                        MOR  0 - 0  IRA\n----------------------------------------------\n   Team     Form      GF       GD       Pts   \n\"\"\"\"\"\"\"\"\"\"\"\"\"\"\"\"\"\"\"\"\"\"\"\"\"\"\"\"\"\"\"\"\"\"\"\"\"\"\"\"\"\"\"\"\"\"\n POR         DWW       5        4        7    \n----------------------------------------------\n SPA         DWD       2        1        5    \n----------------------------------------------\n IRA         LDD       0       -1        2    \n----------------------------------------------\n MOR         LLD       2       -4        1    \n----------------------------------------------\n\n\n                            GROUP C\n                        FRA  1 - 0  AUS\n                        FRA  1 - 0  PER\n                        FRA  2 - 2  DEN\n                        AUS  1 - 0  PER\n                        AUS  1 - 1  DEN\n                        PER  1 - 2  DEN\n----------------------------------------------\n   Team     Form      GF       GD       Pts   \n\"\"\"\"\"\"\"\"\"\"\"\"\"\"\"\"\"\"\"\"\"\"\"\"\"\"\"\"\"\"\"\"\"\"\"\"\"\"\"\"\"\"\"\"\"\"\n FRA         WWD       4        2        7    \n----------------------------------------------\n DEN         DDW       5        1        5    \n----------------------------------------------\n AUS         LWD       2        0        4    \n----------------------------------------------\n PER         LLL       1       -3        0    \n----------------------------------------------\n\n\n                            GROUP D\n                        ARG  1 - 0  ICE\n                        ARG  2 - 3  CRO\n                        ARG  4 - 1  NIG\n                        ICE  2 - 2  CRO\n                        ICE  3 - 2  NIG\n                        CRO  1 - 1  NIG\n----------------------------------------------\n   Team     Form      GF       GD       Pts   \n\"\"\"\"\"\"\"\"\"\"\"\"\"\"\"\"\"\"\"\"\"\"\"\"\"\"\"\"\"\"\"\"\"\"\"\"\"\"\"\"\"\"\"\"\"\"\n ARG         WLW       7        3        6    \n----------------------------------------------\n CRO         WDD       6        1        5    \n----------------------------------------------\n ICE         LDW       5        0        4    \n----------------------------------------------\n NIG         LLD       4       -4        1    \n----------------------------------------------\n\n\n                            GROUP E\n                        BRA  2 - 1  SWI\n                        BRA  2 - 1  COS\n                        BRA  0 - 0  SER\n                        SWI  1 - 0  COS\n                        SWI  3 - 2  SER\n                        COS  1 - 1  SER\n----------------------------------------------\n   Team     Form      GF       GD       Pts   \n\"\"\"\"\"\"\"\"\"\"\"\"\"\"\"\"\"\"\"\"\"\"\"\"\"\"\"\"\"\"\"\"\"\"\"\"\"\"\"\"\"\"\"\"\"\"\n BRA         WWD       4        2        7    \n----------------------------------------------\n SWI         LWW       5        1        6    \n----------------------------------------------\n SER         DLD       3       -1        2    \n----------------------------------------------\n COS         LLD       2       -2        1    \n----------------------------------------------\n\n\n                            GROUP F\n                        GER  2 - 1  MEX\n                        GER  3 - 1  SWE\n                        GER  5 - 1  SOU\n                        MEX  2 - 1  SWE\n                        MEX  1 - 0  SOU\n                        SWE  1 - 0  SOU\n----------------------------------------------\n   Team     Form      GF       GD       Pts   \n\"\"\"\"\"\"\"\"\"\"\"\"\"\"\"\"\"\"\"\"\"\"\"\"\"\"\"\"\"\"\"\"\"\"\"\"\"\"\"\"\"\"\"\"\"\"\n GER         WWW      10        7        9    \n----------------------------------------------\n MEX         LWW       4        1        6    \n----------------------------------------------\n SWE         LLW       3       -2        3    \n----------------------------------------------\n SOU         LLL       1       -6        0    \n----------------------------------------------\n\n\n                            GROUP G\n                        BEL  1 - 0  PAN\n                        BEL  0 - 1  TUN\n                        BEL  1 - 0  ENG\n                        PAN  0 - 1  TUN\n                        PAN  1 - 2  ENG\n                        TUN  1 - 2  ENG\n----------------------------------------------\n   Team     Form      GF       GD       Pts   \n\"\"\"\"\"\"\"\"\"\"\"\"\"\"\"\"\"\"\"\"\"\"\"\"\"\"\"\"\"\"\"\"\"\"\"\"\"\"\"\"\"\"\"\"\"\"\n ENG         LWW       4        1        6    \n----------------------------------------------\n TUN         WWL       3        1        6    \n----------------------------------------------\n BEL         WLW       2        1        6    \n----------------------------------------------\n PAN         LLL       1       -3        0    \n----------------------------------------------\n\n\n                            GROUP H\n                        POL  0 - 0  SEN\n                        POL  0 - 1  COL\n                        POL  3 - 1  JAP\n                        SEN  2 - 1  COL\n                        SEN  0 - 1  JAP\n                        COL  0 - 0  JAP\n----------------------------------------------\n   Team     Form      GF       GD       Pts   \n\"\"\"\"\"\"\"\"\"\"\"\"\"\"\"\"\"\"\"\"\"\"\"\"\"\"\"\"\"\"\"\"\"\"\"\"\"\"\"\"\"\"\"\"\"\"\n JAP         LWD       2       -1        4    \n----------------------------------------------\n COL         WLD       2        0        4    \n----------------------------------------------\n SEN         DWL       2        0        4    \n----------------------------------------------\n POL         DLW       3        1        4    \n----------------------------------------------\n"
     ]
    }
   ],
   "source": [
    "\n",
    "# input data\n",
    "# team name, FIFA rank, group ID\n",
    "# 'England', 8, 'E'\n",
    "\n",
    "teams_list = []\n",
    "# load csv\n",
    "with open('teams.csv', 'r') as f:\n",
    "    for line in f.readlines()[1:]:\n",
    "        team, code, rank, group = line.strip().split(',')\n",
    "        # define Team class\n",
    "        teams_list.append(Team(team, code, rank, group))\n",
    "        \n",
    "# isolate the teams by the group they appear in\n",
    "teams_in_group = [(list(g)) for _, g in itertools.groupby(teams_list, lambda x: x.group)]\n",
    "\n",
    "# simulate the group stages\n",
    "group_stages(teams_in_group)\n"
   ]
  },
  {
   "cell_type": "code",
   "execution_count": null,
   "metadata": {
    "collapsed": true
   },
   "outputs": [
    {
     "ename": "SyntaxError",
     "evalue": "invalid syntax (<ipython-input-45-caf27de49540>, line 3)",
     "traceback": [
      "\u001b[0;36m  File \u001b[0;32m\"<ipython-input-45-caf27de49540>\"\u001b[0;36m, line \u001b[0;32m3\u001b[0m\n\u001b[0;31m    def Fixture(team1, team2, draws_allowed)\u001b[0m\n\u001b[0m                                            ^\u001b[0m\n\u001b[0;31mSyntaxError\u001b[0m\u001b[0;31m:\u001b[0m invalid syntax\n"
     ],
     "output_type": "error"
    }
   ],
   "source": [
    "\n",
    "\n",
    "\n",
    "\n",
    "winner = Finals(group_winners)\n"
   ]
  },
  {
   "cell_type": "code",
   "execution_count": null,
   "metadata": {},
   "outputs": [],
   "source": []
  }
 ],
 "metadata": {
  "kernelspec": {
   "display_name": "Python 2",
   "language": "python",
   "name": "python2"
  },
  "language_info": {
   "codemirror_mode": {
    "name": "ipython",
    "version": 2
   },
   "file_extension": ".py",
   "mimetype": "text/x-python",
   "name": "python",
   "nbconvert_exporter": "python",
   "pygments_lexer": "ipython2",
   "version": "2.7.6"
  }
 },
 "nbformat": 4,
 "nbformat_minor": 0
}
