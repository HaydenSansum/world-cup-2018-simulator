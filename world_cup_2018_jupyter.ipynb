{
 "cells": [
  {
   "cell_type": "code",
   "execution_count": 48,
   "metadata": {
    "collapsed": false
   },
   "outputs": [],
   "source": [
    "import itertools\n",
    "from random import random, randint\n",
    "from numpy import round, min, ceil, max\n"
   ]
  },
  {
   "cell_type": "code",
   "execution_count": 82,
   "metadata": {
    "collapsed": false
   },
   "outputs": [],
   "source": [
    "# Functions\n",
    "# the fixture function finds the result of the two teams\n",
    "def football_fixture(team1, team2, draws_allowed):\n",
    "    # use rank to set win conditions\n",
    "    delta = int(team1.rank) - int(team2.rank)\n",
    "    # positive delta = team 1 better than team 2\n",
    "    # negative delta = team 2 better than team 1\n",
    "    if delta >= 0:\n",
    "        w1 = 0.0006 * delta + 0.35\n",
    "        w2 = 1 - (-0.0003 * delta + 0.35)\n",
    "    else:\n",
    "        w1 = -0.0003 * delta + 0.35\n",
    "        w2 = 1 - (0.0006 * delta + 0.35)\n",
    "\n",
    "    r = random()\n",
    "\n",
    "    if r < w1:  # team 1 won\n",
    "        team1.points += 3\n",
    "        team1.result += 'W'\n",
    "        team2.result += 'L'\n",
    "        # with the goals, we are aiming for potentially large margins if big delta, but only small delta if small delta.\n",
    "        if delta > 3000:\n",
    "            # this is the expected result and so we want the option of many goals\n",
    "            team1_goals = randint(1, 2) + randint(0, round(delta / 200))\n",
    "            # the second expression delivers max of 0 to 5.\n",
    "            team2_goals = min([team1_goals - 1, randint(0, 5)])\n",
    "        else:\n",
    "            # else this was an \"upset\" and so fewer goals\n",
    "            team1_goals = randint(1, 2)\n",
    "            team2_goals = max([0, team1_goals - randint(1, 2)])\n",
    "            \n",
    "    elif r < w2 and draws_allowed:\n",
    "        # then we have a draw\n",
    "        team1.points += 1\n",
    "        team1.result += 'D'\n",
    "        team2.points = + 1\n",
    "        team2.result += 'D'\n",
    "        draw_goals = randint(0, 5 - round(abs(delta) / 200))\n",
    "        team1_goals = draw_goals\n",
    "        team2_goals = draw_goals\n",
    "\n",
    "    else:  # team 2 won the game\n",
    "        team2.points += 3\n",
    "        team2.result += 'W'\n",
    "        team1.result += 'L'\n",
    "        if delta < -3000:\n",
    "            team2_goals = randint(1, 2) + randint(0, round(-delta / 200))\n",
    "            team1_goals = min([team2_goals - 1, randint(0, 5)])\n",
    "        else:\n",
    "            team2_goals = randint(1, 2)\n",
    "            team1_goals = max([0, team2_goals - randint(1, 2)])\n",
    "\n",
    "    # update the goal differences for each team\n",
    "    team1.goals_forward += team1_goals\n",
    "    team1.goals_against += team1_goals\n",
    "    team1.goal_difference = team1.goals_forward - team1.goals_against\n",
    "    team2.goals_forward += team2_goals\n",
    "    team2.goals_against += team2_goals\n",
    "    team2.goal_difference = team2.goals_forward - team2.goals_against\n",
    "    # update the fixture history\n",
    "    team1.fixtures += team2.team + ', ' + team1.result[-1]\n",
    "    team2.fixtures += team1.team + ', ' + team2.result[-1]\n",
    "    # report result  \n",
    "    print(team1.result[-1] + '  ' + team1.team + ' ' + str(team1_goals) + ' - ' + str(team2_goals) + ' ' + team2.team + '  ' + team2.result[-1])\n"
   ]
  },
  {
   "cell_type": "code",
   "execution_count": 66,
   "metadata": {
    "collapsed": true
   },
   "outputs": [],
   "source": [
    "# the group_stage function resolves all the fixtures within a group stage and stores the results inside the team class\n",
    "def group_stages(teams_in_group):\n",
    "    for i in range(8):  # 8 groups A to H\n",
    "        # find all the fixtures for this group\n",
    "        group_fixtures = list(itertools.combinations(teams_in_group[i], 2))\n",
    "        # play each fixture\n",
    "        for j in range(len(group_fixtures)):\n",
    "            team1, team2 = group_fixtures[j]\n",
    "            football_fixture(team1, team2, draws_allowed=True)\n"
   ]
  },
  {
   "cell_type": "code",
   "execution_count": null,
   "metadata": {
    "collapsed": true
   },
   "outputs": [
    {
     "ename": "SyntaxError",
     "evalue": "invalid syntax (<ipython-input-45-caf27de49540>, line 3)",
     "traceback": [
      "\u001b[0;36m  File \u001b[0;32m\"<ipython-input-45-caf27de49540>\"\u001b[0;36m, line \u001b[0;32m3\u001b[0m\n\u001b[0;31m    def Fixture(team1, team2, draws_allowed)\u001b[0m\n\u001b[0m                                            ^\u001b[0m\n\u001b[0;31mSyntaxError\u001b[0m\u001b[0;31m:\u001b[0m invalid syntax\n"
     ],
     "output_type": "error"
    }
   ],
   "source": [
    "\n",
    "# the Finals function resolves the knock out stages of the finals\n",
    "def Finals(group_winners)\n",
    "    Fixture(T1, T2, draws_allowed=False)\n"
   ]
  },
  {
   "cell_type": "code",
   "execution_count": 68,
   "metadata": {
    "collapsed": true
   },
   "outputs": [],
   "source": [
    "# define Team class\n",
    "class Team:\n",
    "    def __init__(self, team, rank, group):\n",
    "        self.team = team\n",
    "        self.rank = rank\n",
    "        self.group = group\n",
    "        self.fixtures = []\n",
    "        self.points = 0\n",
    "        self.result = []\n",
    "        self.goal_difference = 0\n",
    "        self.goals_forward = 0\n",
    "        self.goals_against = 0\n",
    "                \n",
    "    def __repr__(self):\n",
    "        return f'<Team({self.team})>'\n"
   ]
  },
  {
   "cell_type": "code",
   "execution_count": 36,
   "metadata": {
    "collapsed": false
   },
   "outputs": [
    {
     "data": {
      "text/plain": [
       "<Team(Russia)>"
      ]
     },
     "execution_count": 36,
     "metadata": {},
     "output_type": "execute_result"
    }
   ],
   "source": [
    "\n",
    "# input data\n",
    "# team name, FIFA rank, group ID\n",
    "# 'England', 8, 'E'\n",
    "\n",
    "teams_list = []\n",
    "# load csv\n",
    "with open('teams.csv', 'r') as f:\n",
    "    for line in f.readlines()[1:]:\n",
    "        team, rank, group = line.strip().split(',')\n",
    "        teams_list.append(Team(team, rank, group))\n",
    "        \n",
    "        \n",
    "teams_list[0]"
   ]
  },
  {
   "cell_type": "code",
   "execution_count": 17,
   "metadata": {
    "collapsed": false
   },
   "outputs": [
    {
     "data": {
      "text/plain": [
       "[[<Team(Russia)>, <Team(Saudi Arabia)>, <Team(Egypt)>, <Team(Uruguay)>],\n [<Team(Portugal)>, <Team(Spain)>, <Team(Morocco)>, <Team(Iran)>],\n [<Team(France)>, <Team(Australia)>, <Team(Peru)>, <Team(Denmark)>],\n [<Team(Argentina)>, <Team(Iceland)>, <Team(Croatia)>, <Team(Nigeria)>],\n [<Team(Brazil)>, <Team(Switzerland)>, <Team(Costa Rica)>, <Team(Serbia)>],\n [<Team(Germany)>, <Team(Mexico)>, <Team(Sweden)>, <Team(South Korea)>],\n [<Team(Belgium)>, <Team(Panama)>, <Team(Tunisia)>, <Team(England)>],\n [<Team(Poland)>, <Team(Senegal)>, <Team(Colombia)>, <Team(Japan)>]]"
      ]
     },
     "execution_count": 17,
     "metadata": {},
     "output_type": "execute_result"
    }
   ],
   "source": [
    "# isolate the teams by the group they appear in\n",
    "teams_in_group = [(list(g)) for _, g in itertools.groupby(teams_list, lambda x: x.group)]\n",
    "teams_in_group"
   ]
  },
  {
   "cell_type": "code",
   "execution_count": 83,
   "metadata": {
    "collapsed": true
   },
   "outputs": [
    {
     "name": "stdout",
     "output_type": "stream",
     "text": [
      "D  Russia 3 - 3 Saudi Arabia  D\nL  Russia 0 - 1 Egypt  W\nD  Russia 2 - 2 Uruguay  D\nD  Saudi Arabia 3 - 3 Egypt  D\nW  Saudi Arabia 1 - 0 Uruguay  L\nL  Egypt 1 - 2 Uruguay  W\nW  Portugal 2 - 1 Spain  L\nW  Portugal 2 - 0 Morocco  L\nW  Portugal 1 - 0 Iran  L\nL  Spain 0 - 1 Morocco  W\nD  Spain 1 - 1 Iran  D\nW  Morocco 2 - 1 Iran  L\nD  France 0 - 0 Australia  D\nW  France 2 - 0 Peru  L\nW  France 2 - 1 Denmark  L\nW  Australia 1 - 0 Peru  L\nL  Australia 0 - 2 Denmark  W\nL  Peru 1 - 2 Denmark  W\nL  Argentina 0 - 2 Iceland  W\nW  Argentina 1 - 0 Croatia  L\nW  Argentina 2 - 0 Nigeria  L\nW  Iceland 1 - 0 Croatia  L\nD  Iceland 3 - 3 Nigeria  D\nW  Croatia 1 - 0 Nigeria  L\nD  Brazil 1 - 1 Switzerland  D\nW  Brazil 2 - 0 Costa Rica  L\nW  Brazil 1 - 0 Serbia  L\nW  Switzerland 1 - 0 Costa Rica  L\nW  Switzerland 2 - 1 Serbia  L\nW  Costa Rica 1 - 0 Serbia  L\nW  Germany 2 - 0 Mexico  L\nW  Germany 1 - 0 Sweden  L\nW  Germany 1 - 0 South Korea  L\nL  Mexico 1 - 2 Sweden  W\nW  Mexico 1 - 0 South Korea  L\nW  Sweden 1 - 0 South Korea  L\nW  Belgium 1 - 0 Panama  L\nL  Belgium 0 - 1 Tunisia  W\nW  Belgium 1 - 0 England  L\nW  Panama 2 - 1 Tunisia  L\nD  Panama 1 - 1 England  D\nW  Tunisia 2 - 0 England  L\nL  Poland 0 - 1 Senegal  W\nD  Poland 2 - 2 Colombia  D\nD  Poland 1 - 1 Japan  D\nD  Senegal 0 - 0 Colombia  D\nD  Senegal 2 - 2 Japan  D\nW  Colombia 1 - 0 Japan  L\n"
     ]
    }
   ],
   "source": [
    "group_stages(teams_in_group)\n",
    "\n",
    "# need to arrange the winners of each group and the next fixtures."
   ]
  },
  {
   "cell_type": "code",
   "execution_count": null,
   "metadata": {
    "collapsed": true
   },
   "outputs": [
    {
     "ename": "SyntaxError",
     "evalue": "invalid syntax (<ipython-input-45-caf27de49540>, line 3)",
     "traceback": [
      "\u001b[0;36m  File \u001b[0;32m\"<ipython-input-45-caf27de49540>\"\u001b[0;36m, line \u001b[0;32m3\u001b[0m\n\u001b[0;31m    def Fixture(team1, team2, draws_allowed)\u001b[0m\n\u001b[0m                                            ^\u001b[0m\n\u001b[0;31mSyntaxError\u001b[0m\u001b[0;31m:\u001b[0m invalid syntax\n"
     ],
     "output_type": "error"
    }
   ],
   "source": [
    "\n",
    "\n",
    "\n",
    "\n",
    "winner = Finals(group_winners)\n"
   ]
  },
  {
   "cell_type": "code",
   "execution_count": null,
   "metadata": {},
   "outputs": [],
   "source": []
  }
 ],
 "metadata": {
  "kernelspec": {
   "display_name": "Python 2",
   "language": "python",
   "name": "python2"
  },
  "language_info": {
   "codemirror_mode": {
    "name": "ipython",
    "version": 2
   },
   "file_extension": ".py",
   "mimetype": "text/x-python",
   "name": "python",
   "nbconvert_exporter": "python",
   "pygments_lexer": "ipython2",
   "version": "2.7.6"
  }
 },
 "nbformat": 4,
 "nbformat_minor": 0
}
